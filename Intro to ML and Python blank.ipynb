{
 "cells": [
  {
   "cell_type": "markdown",
   "metadata": {
    "pycharm": {
     "name": "#%% md\n"
    }
   },
   "source": [
    "## An Introduction to mathematical modeling and Python "
   ]
  },
  {
   "cell_type": "markdown",
   "metadata": {
    "pycharm": {
     "name": "#%% md\n"
    }
   },
   "source": [
    "In this class, we will do our coding in Python. This is a coding language that has a lot of advantages. First, it has a relatively easy learning curve. If you've done coding before, you should catch on quickly. If not, it is an intuitive language. Second, it is *open-source*. This means that the entire coding language is freely accessible for anyone. That means you can use it on any machine without any cost. It also means that people can develop code for it and share their code with others. Python makes it extremely easy to *import* the code written by others. Third, because code is being constantly developed and shared, it is quite easy to start writing powerful code since we can take advantage of the wonderful programs written by others!\n",
    "\n",
    "The document you are looking at now is called a Jupyter Notebook. This is a fourth great advantage of Python. We can mix text and code in this document, explaining steps as we go along. At any point, you can edit the code you see and press Shift + Enter to evaluate it and see how your new code changes the result. \n",
    "\n",
    "To get started, click on the cell (the rectangular box) below press Shift + Enter to evaluate its content (run the code).\n",
    "\n",
    "Try playing around with different numbers below."
   ]
  },
  {
   "cell_type": "code",
   "execution_count": null,
   "metadata": {
    "pycharm": {
     "name": "#%%\n"
    }
   },
   "outputs": [],
   "source": []
  },
  {
   "cell_type": "markdown",
   "metadata": {
    "pycharm": {
     "name": "#%% md\n"
    }
   },
   "source": [
    "Try changing the code in the box above to calculate other simple things. Remember to press Shift + Enter to evaluate your new code! We can easily use Python as a calculator in this way.\n",
    "\n",
    "Remember how we said we wanted to use code written by others? One of the most popular sets of code is called numpy (numerical Python). This is a package that includes a *ton* of useful math functions. Getting access to this great code is as simple as requesting Python import it! Press Shift + Enter on the box below:"
   ]
  },
  {
   "cell_type": "code",
   "execution_count": null,
   "metadata": {
    "pycharm": {
     "name": "#%%\n"
    }
   },
   "outputs": [],
   "source": []
  },
  {
   "cell_type": "markdown",
   "metadata": {
    "pycharm": {
     "name": "#%% md\n"
    }
   },
   "source": [
    "Importing 'as' np means that we can use the pieces of code in this big library of code simply by typing 'np' first. "
   ]
  },
  {
   "cell_type": "markdown",
   "metadata": {
    "pycharm": {
     "name": "#%% md\n"
    }
   },
   "source": [
    "Now we can make use of numpy functions. All numpy code begins with np.y where y is the name of the function you want to use. For example, press Shift + Enter on the below block. Discuss with your group what this code is doing."
   ]
  },
  {
   "cell_type": "code",
   "execution_count": null,
   "metadata": {
    "pycharm": {
     "name": "#%%\n"
    }
   },
   "outputs": [],
   "source": []
  },
  {
   "cell_type": "markdown",
   "metadata": {
    "pycharm": {
     "name": "#%% md\n"
    }
   },
   "source": [
    "What did you come up with? Hopefully, you found that this is calculating $e^1$ - that is, np.exp calculates e to a given power, where we specify what power we want by the number in the parentheses."
   ]
  },
  {
   "cell_type": "markdown",
   "metadata": {
    "pycharm": {
     "name": "#%% md\n"
    }
   },
   "source": [
    "We are going to use Python and numpy to obtain the results from the math worksheet in a computer. You will hopefully start to get a feel for how useful it is to outsource math to a machine!\n",
    "\n",
    "We can break down the first problem in the math worksheet, using the Pythagorean Theorem, into simply a series of four calculator evaluations - $a^2$, $b^2$, adding $a^2 + b^2$, and taking the square root ($a$ and $b$ are just numbers). Complete each one in the cells below. Remember to press Shift + Enter to evaluate them. If a function doesn't seem to work, try putting \"np.\" in front of it. Many of the mathematical functions you expect are included in numpy but not basic Python. Finally, the exponent in Python is defined by **."
   ]
  },
  {
   "cell_type": "code",
   "execution_count": null,
   "metadata": {
    "pycharm": {
     "name": "#%%\n"
    }
   },
   "outputs": [],
   "source": []
  },
  {
   "cell_type": "code",
   "execution_count": null,
   "metadata": {
    "pycharm": {
     "name": "#%%\n"
    }
   },
   "outputs": [],
   "source": []
  },
  {
   "cell_type": "code",
   "execution_count": null,
   "metadata": {
    "pycharm": {
     "name": "#%%\n"
    }
   },
   "outputs": [],
   "source": []
  },
  {
   "cell_type": "code",
   "execution_count": null,
   "metadata": {
    "pycharm": {
     "name": "#%%\n"
    }
   },
   "outputs": [],
   "source": []
  },
  {
   "cell_type": "markdown",
   "source": [
    "Now, let's use this notebook and [desmos](https://www.desmos.com/calculator/mhq4hsncnh?lang=nl) to solve problems 1 through 5 on the math review worksheet."
   ],
   "metadata": {
    "collapsed": false,
    "pycharm": {
     "name": "#%% md\n"
    }
   }
  },
  {
   "cell_type": "code",
   "execution_count": null,
   "outputs": [],
   "source": [],
   "metadata": {
    "collapsed": false,
    "pycharm": {
     "name": "#%%\n"
    }
   }
  },
  {
   "cell_type": "code",
   "execution_count": null,
   "outputs": [],
   "source": [],
   "metadata": {
    "collapsed": false,
    "pycharm": {
     "name": "#%%\n"
    }
   }
  },
  {
   "cell_type": "code",
   "execution_count": null,
   "outputs": [],
   "source": [],
   "metadata": {
    "collapsed": false,
    "pycharm": {
     "name": "#%%\n"
    }
   }
  },
  {
   "cell_type": "markdown",
   "metadata": {
    "pycharm": {
     "name": "#%% md\n"
    }
   },
   "source": [
    "Mathematical models take the form of *functions*. Functions can be created in Python several different ways. One way is to use the following to define a function:\n",
    "\n",
    "The following line creates (using *def*) the function \"Area_Of_Square\" which takes in one input: length, and returns one output, the total area of a square. \n",
    "\n",
    "In Machine Learning, the input is called *input data* and the output is called the *target variable*."
   ]
  },
  {
   "cell_type": "code",
   "execution_count": null,
   "metadata": {
    "pycharm": {
     "name": "#%%\n"
    }
   },
   "outputs": [],
   "source": []
  },
  {
   "cell_type": "markdown",
   "metadata": {
    "pycharm": {
     "name": "#%% md\n"
    }
   },
   "source": [
    "We can now use the function \"Area_Of_Square\" to find the area of a square (the target variable) from the length of one side (the input data)."
   ]
  },
  {
   "cell_type": "markdown",
   "metadata": {
    "pycharm": {
     "name": "#%% md\n"
    }
   },
   "source": [
    "So, we are defining in code the function $\\text{area of square} = \\text{length*length}$, where $\\text{Area_Of_Square}$ is the name of our function and our output, and $\\text{length}$ is our input variable. Note that when we run this code, there isn't an output - that's okay! We have *defined* a function, but we haven't tried to *evaluate* it yet - that's when we expect an output.\n",
    "\n",
    "To evaluate the function, we will call its name and give it an input. The function will return the output.\n",
    "\n",
    "So, if we want to calculate the area of a square with sides of length 3, we use:"
   ]
  },
  {
   "cell_type": "code",
   "execution_count": null,
   "metadata": {
    "pycharm": {
     "name": "#%%\n"
    }
   },
   "outputs": [],
   "source": []
  },
  {
   "cell_type": "markdown",
   "metadata": {
    "pycharm": {
     "name": "#%% md\n"
    }
   },
   "source": [
    "Exactly as we expect, our function told us that for an input of 3 (the length of the sides), our output is 9 (the area of the square)."
   ]
  },
  {
   "cell_type": "markdown",
   "metadata": {
    "pycharm": {
     "name": "#%% md\n"
    }
   },
   "source": [
    "Now it's your turn. Fill in the following function which determines the area of a rectangle (the target variable) from the two pieces input data: the length (l) and width (w) of its sides."
   ]
  },
  {
   "cell_type": "code",
   "execution_count": null,
   "metadata": {
    "pycharm": {
     "name": "#%%\n"
    }
   },
   "outputs": [],
   "source": []
  },
  {
   "cell_type": "code",
   "execution_count": null,
   "metadata": {
    "pycharm": {
     "name": "#%%\n"
    }
   },
   "outputs": [],
   "source": []
  },
  {
   "cell_type": "markdown",
   "metadata": {
    "pycharm": {
     "name": "#%% md\n"
    }
   },
   "source": [
    "Using this format, fill in the cells below to define the three functions from problem two."
   ]
  },
  {
   "cell_type": "code",
   "execution_count": null,
   "metadata": {
    "pycharm": {
     "name": "#%%\n"
    }
   },
   "outputs": [],
   "source": []
  },
  {
   "cell_type": "code",
   "execution_count": null,
   "metadata": {
    "pycharm": {
     "name": "#%%\n"
    }
   },
   "outputs": [],
   "source": []
  },
  {
   "cell_type": "code",
   "execution_count": null,
   "metadata": {
    "pycharm": {
     "name": "#%%\n"
    }
   },
   "outputs": [],
   "source": []
  },
  {
   "cell_type": "code",
   "execution_count": null,
   "metadata": {
    "pycharm": {
     "name": "#%%\n"
    }
   },
   "outputs": [],
   "source": []
  },
  {
   "cell_type": "code",
   "execution_count": null,
   "metadata": {
    "pycharm": {
     "name": "#%%\n"
    }
   },
   "outputs": [],
   "source": []
  },
  {
   "cell_type": "markdown",
   "metadata": {
    "pycharm": {
     "name": "#%% md\n"
    }
   },
   "source": [
    "What if we want to automate filling the table from problem 2? We could just plug in the value of x for each of the three functions and record the answer, but it would be a little bit tedious. Instead, we are going to use an *array*. An array is a list of numbers, for example: A = [1,2,3,4] is an array. \n",
    "\n",
    "In order to work with arrays, we'll also need to use numpy. We can define an array called `my_array` as follows:"
   ]
  },
  {
   "cell_type": "code",
   "execution_count": null,
   "metadata": {
    "pycharm": {
     "name": "#%%\n"
    }
   },
   "outputs": [],
   "source": []
  },
  {
   "cell_type": "markdown",
   "metadata": {
    "pycharm": {
     "name": "#%% md\n"
    }
   },
   "source": [
    "We can now use this array in our functions! For example, we can find the area of the squares with length 1, 2, 3, and 4, all together."
   ]
  },
  {
   "cell_type": "code",
   "execution_count": null,
   "metadata": {
    "pycharm": {
     "name": "#%%\n"
    }
   },
   "outputs": [],
   "source": []
  },
  {
   "cell_type": "markdown",
   "metadata": {
    "pycharm": {
     "name": "#%% md\n"
    }
   },
   "source": [
    "Using this, create an array, called my_array2, that consists of all the values of x you want to plug in to our three functions."
   ]
  },
  {
   "cell_type": "code",
   "execution_count": null,
   "metadata": {
    "pycharm": {
     "name": "#%%\n"
    }
   },
   "outputs": [],
   "source": []
  },
  {
   "cell_type": "markdown",
   "metadata": {
    "pycharm": {
     "name": "#%% md\n"
    }
   },
   "source": [
    "Now plug this new array into your functions to get the same results you had before! \n",
    "\n",
    "Note that when we define functions, the name of the variable in parentheses is just a placeholder – in other words, we can define a function as *f(x)*, then ask it to give us the output for a specific input called *x0* by calculating *f(x0)* – note that we've replaced *x* with *x0* now that we want to get specific outputs."
   ]
  },
  {
   "cell_type": "code",
   "execution_count": null,
   "metadata": {
    "pycharm": {
     "name": "#%%\n"
    }
   },
   "outputs": [],
   "source": []
  },
  {
   "cell_type": "code",
   "execution_count": null,
   "metadata": {
    "pycharm": {
     "name": "#%%\n"
    }
   },
   "outputs": [],
   "source": []
  },
  {
   "cell_type": "code",
   "execution_count": null,
   "metadata": {
    "pycharm": {
     "name": "#%%\n"
    }
   },
   "outputs": [],
   "source": []
  },
  {
   "cell_type": "markdown",
   "metadata": {
    "pycharm": {
     "name": "#%% md\n"
    }
   },
   "source": [
    "## \"Learning\""
   ]
  },
  {
   "cell_type": "markdown",
   "metadata": {
    "pycharm": {
     "name": "#%% md\n"
    }
   },
   "source": [
    "In machine learning, we work with data instead of explicit forms for the functions, as we have above. \n",
    "\n",
    "Each of the above models can be put in the form $y = f(x)$. Then if we have the inputs \n",
    "\n",
    "$$x_1 = 1, ~x_2 = 2,~ x_3 = 3,~ x_4 = 4$$\n",
    "\n",
    "we have output \n",
    "\n",
    "$$y_1 = f(x_1),~ y_2 = f(x_2),~ y_3 = f(x_3),~ y_4 = f(x_4).$$\n",
    "\n",
    "For example, using the \"Area_Of_Square\" model, we have \n",
    "\n",
    "$$(x_1,x_2,x_3,x_4) = (1,2,3,4)$$ and $$(y_1,y_2,y_3,y_4) = (1,4,9,16).$$ \n",
    "\n",
    "This information (the data) can be used to create a table,\n",
    "\n",
    "| $x$ | $y$ | \n",
    "| --- | --- |\n",
    "|  1  |  1  |\n",
    "|  2  |  4  |\n",
    "|  3  |  9  |\n",
    "|  4  |  16 |\n",
    "\n",
    "and a scatter plot. In order to create the scatter plot, we need to import some more code, this is used for plotting."
   ]
  },
  {
   "cell_type": "code",
   "execution_count": null,
   "metadata": {
    "pycharm": {
     "name": "#%%\n"
    }
   },
   "outputs": [],
   "source": []
  },
  {
   "cell_type": "markdown",
   "source": [],
   "metadata": {
    "collapsed": false,
    "pycharm": {
     "name": "#%% md\n"
    }
   }
  },
  {
   "cell_type": "markdown",
   "metadata": {
    "pycharm": {
     "name": "#%% md\n"
    }
   },
   "source": [
    "We'll create a list of our inputs $x_i$, then our outputs $y_i$, where our inputs $x_i$ give the lengths and the outputs $y_i$ give us the area of a square with those lengths. Then, we plot the input lengths and the output areas!"
   ]
  },
  {
   "cell_type": "code",
   "execution_count": null,
   "metadata": {
    "pycharm": {
     "name": "#%%\n"
    }
   },
   "outputs": [],
   "source": []
  },
  {
   "cell_type": "markdown",
   "metadata": {
    "pycharm": {
     "name": "#%% md\n"
    }
   },
   "source": [
    "We engineered the models that were given above. In other words, we constructed what we thought was a reasonable model. The key difference between what we've done above and \"Machine Learning\" is that in Machine Learning, we use data to try to determine the model. This step is called *learning*.\n",
    "\n",
    "Another way to say this is that in Machine Learning, you have the table\n",
    "\n",
    "| $x$ | $y$ | \n",
    "| --- | --- |\n",
    "|  1  |  1  |\n",
    "|  2  |  4  |\n",
    "|  3  |  9  |\n",
    "|  4  |  16 |\n",
    "\n",
    "\n",
    "and the goal is to *find* the function $f$ such that $y = f(x)$.\n",
    "\n",
    "The $f$ that works for the above scatter plot is $f(x) = x^2$. We can plot this to check it.\n",
    "\n",
    "In order to plot $f(x) = x^2$, we first need to define a bunch of $x$ points. We want to create a curve, so we define a bunch of points that are really close together. We can do this using numpy's \"*arange*\" function."
   ]
  },
  {
   "cell_type": "code",
   "execution_count": null,
   "metadata": {
    "pycharm": {
     "name": "#%%\n"
    }
   },
   "outputs": [],
   "source": []
  },
  {
   "cell_type": "markdown",
   "metadata": {
    "pycharm": {
     "name": "#%% md\n"
    }
   },
   "source": [
    "What did this function do? Discuss it with your friends. You can also check what a function does with the help function:"
   ]
  },
  {
   "cell_type": "code",
   "execution_count": null,
   "metadata": {
    "pycharm": {
     "name": "#%%\n"
    }
   },
   "outputs": [],
   "source": []
  },
  {
   "cell_type": "markdown",
   "metadata": {
    "pycharm": {
     "name": "#%% md\n"
    }
   },
   "source": [
    "In order to make the plot, we need to also get the y-values for many_points."
   ]
  },
  {
   "cell_type": "code",
   "execution_count": null,
   "metadata": {
    "pycharm": {
     "name": "#%%\n"
    }
   },
   "outputs": [],
   "source": []
  },
  {
   "cell_type": "code",
   "execution_count": null,
   "metadata": {
    "pycharm": {
     "name": "#%%\n"
    }
   },
   "outputs": [],
   "source": []
  },
  {
   "cell_type": "markdown",
   "metadata": {
    "pycharm": {
     "name": "#%% md\n"
    }
   },
   "source": [
    "We see that the curve above goes through each one of our data points, so we think we have found the model $f$. "
   ]
  },
  {
   "cell_type": "markdown",
   "metadata": {
    "pycharm": {
     "name": "#%% md\n"
    }
   },
   "source": [
    "Consider the following table:\n",
    "\n",
    "| $x$ | $y$ | \n",
    "| --- | --- |\n",
    "|  -10  |  -2  |\n",
    "|  -8  |  -1  |\n",
    "|  -7  |  -0.5  |\n",
    "|  -4  |  1 |\n",
    "|  0  |  3  |\n",
    "|  1  |  3.5  |\n",
    "|  2  |  4  |\n",
    "|  4  |  5 |\n",
    "|  6  |  6  |\n",
    "\n",
    "Can you guess what function $y = f(x)$ this represents? To answer this, you may want to plot the data similar to what we did above. Once you have determined the function $f$, plot the data and the curve like you saw above."
   ]
  },
  {
   "cell_type": "markdown",
   "metadata": {
    "pycharm": {
     "name": "#%% md\n"
    }
   },
   "source": [
    "Put the data in arrays:"
   ]
  },
  {
   "cell_type": "code",
   "execution_count": null,
   "metadata": {
    "pycharm": {
     "name": "#%%\n"
    }
   },
   "outputs": [],
   "source": []
  },
  {
   "cell_type": "markdown",
   "metadata": {
    "pycharm": {
     "name": "#%% md\n"
    }
   },
   "source": [
    "Plot the data with circles"
   ]
  },
  {
   "cell_type": "code",
   "execution_count": null,
   "metadata": {
    "pycharm": {
     "name": "#%%\n"
    }
   },
   "outputs": [],
   "source": []
  },
  {
   "cell_type": "markdown",
   "metadata": {
    "pycharm": {
     "name": "#%% md\n"
    }
   },
   "source": [
    "Now we have to come up with the function on our own (not using Python). We'll guess that the equation will be $y = ax + b$, as this data looks very linear. Specifically, we guess that the line is $y = 0.5x + 3$.\n",
    "\n",
    "How did we get this line? By calculating the slope and y-intercept directly from the data. That is, I chose the two points (0, 3) and (1, 3.5), and calculated the slope as $$a = \\frac{3.5-3}{1-0} = 0.5.$$ We can get the y-intercept directly from the point (0, 3), as the y-intercept is the value of y when x = 0. Thus, we have our slope $a = 0.5$ and y-intercept $b = 3,$ and can plug those into the general equation for a line!\n",
    "\n",
    "Now we'd like to plot that line on top of the data to see if it actually matches – let's do this below."
   ]
  },
  {
   "cell_type": "markdown",
   "metadata": {
    "pycharm": {
     "name": "#%% md\n"
    }
   },
   "source": [
    "Create a bunch of values to evaluate the function at. To plot this on top of our data, the values we come up with should match the x-range of our data, so we want the values to run between -10 and 6:"
   ]
  },
  {
   "cell_type": "code",
   "execution_count": null,
   "metadata": {
    "pycharm": {
     "name": "#%%\n"
    }
   },
   "outputs": [],
   "source": []
  },
  {
   "cell_type": "markdown",
   "metadata": {
    "pycharm": {
     "name": "#%% md\n"
    }
   },
   "source": [
    "Now define the model/function that we found so we can then get out our y-points:"
   ]
  },
  {
   "cell_type": "code",
   "execution_count": null,
   "metadata": {
    "pycharm": {
     "name": "#%%\n"
    }
   },
   "outputs": [],
   "source": []
  },
  {
   "cell_type": "code",
   "execution_count": null,
   "metadata": {
    "pycharm": {
     "name": "#%%\n"
    }
   },
   "outputs": [],
   "source": []
  },
  {
   "cell_type": "markdown",
   "metadata": {
    "pycharm": {
     "name": "#%% md\n"
    }
   },
   "source": [
    "Now, plot the data and the function!"
   ]
  },
  {
   "cell_type": "code",
   "execution_count": null,
   "metadata": {
    "scrolled": true,
    "pycharm": {
     "name": "#%%\n"
    }
   },
   "outputs": [],
   "source": []
  },
  {
   "cell_type": "markdown",
   "metadata": {
    "pycharm": {
     "name": "#%% md\n"
    }
   },
   "source": [
    "We see that the function we found, $f$, does indeed 'match' the data very well – that is, the line for the function goes through all our data points.\n",
    "\n",
    "In general, our data will not fit a perfect curve, and so our found function won't go precisely through all the datapoints, but that's a big part of machine learning – finding the function that is closest to our data."
   ]
  },
  {
   "cell_type": "markdown",
   "metadata": {
    "pycharm": {
     "name": "#%% md\n"
    }
   },
   "source": [
    "What if there was a function that could do this for us?\n",
    "\n",
    "If you have taken a statistics course, you might remember the concept of linear regression.\n",
    "Linear regression will give us the slope and the intercept directly from out data!\n",
    "\n",
    "Both the scipy and scikit-learn libraries have this capability. Let's try it with scipy.\n",
    "\n",
    "The first thing we need to do is import the *\"stats\"* module from *\"scipy\"*:"
   ]
  },
  {
   "cell_type": "code",
   "execution_count": null,
   "metadata": {
    "pycharm": {
     "name": "#%%\n"
    }
   },
   "outputs": [],
   "source": []
  },
  {
   "cell_type": "markdown",
   "source": [
    "Now, we can use the linear regression function called \"linregress\" from the stats module.\n",
    "\n",
    "We can do this is the same way we called \"np.arrange\" buy using a \".\" after the module name to select on of the modules functions.\n",
    "\n",
    "This function has two parameters, the x values and they y values.\n",
    "When there are multiple parameters, we separate them with comas in the function call."
   ],
   "metadata": {
    "collapsed": false,
    "pycharm": {
     "name": "#%% md\n"
    }
   }
  },
  {
   "cell_type": "code",
   "execution_count": null,
   "metadata": {
    "pycharm": {
     "name": "#%%\n"
    }
   },
   "outputs": [],
   "source": []
  },
  {
   "cell_type": "markdown",
   "source": [
    "This tells us what we knew before:\n",
    "* Slope = 0.5\n",
    "* Intercept = 3.0\n",
    "\n",
    "But what if this was a real life data set and we could not calculate the slope and intercept using the formulas from before?\n",
    "\n",
    "Let's add some noise to our data using the numpy random normal distribution function using a $\\mu$ of 1, a $\\sigma$ of 0.5, and a length of 9:"
   ],
   "metadata": {
    "collapsed": false,
    "pycharm": {
     "name": "#%% md\n"
    }
   }
  },
  {
   "cell_type": "code",
   "execution_count": null,
   "metadata": {
    "pycharm": {
     "name": "#%%\n"
    }
   },
   "outputs": [],
   "source": []
  },
  {
   "cell_type": "markdown",
   "source": [
    "Adding this array to our original ys array will give us a new noisy array:"
   ],
   "metadata": {
    "collapsed": false,
    "pycharm": {
     "name": "#%% md\n"
    }
   }
  },
  {
   "cell_type": "code",
   "execution_count": null,
   "outputs": [],
   "source": [],
   "metadata": {
    "collapsed": false,
    "pycharm": {
     "name": "#%%\n"
    }
   }
  },
  {
   "cell_type": "markdown",
   "source": [
    "Now let's plot it:"
   ],
   "metadata": {
    "collapsed": false,
    "pycharm": {
     "name": "#%% md\n"
    }
   }
  },
  {
   "cell_type": "code",
   "execution_count": null,
   "outputs": [],
   "source": [],
   "metadata": {
    "collapsed": false,
    "pycharm": {
     "name": "#%%\n"
    }
   }
  },
  {
   "cell_type": "markdown",
   "source": [
    "We can see that it is no longer a simple system where all the points will lie directly on the line. So what is the best function to represent this data? Let's try the old line again first:"
   ],
   "metadata": {
    "collapsed": false,
    "pycharm": {
     "name": "#%% md\n"
    }
   }
  },
  {
   "cell_type": "code",
   "execution_count": null,
   "outputs": [],
   "source": [],
   "metadata": {
    "collapsed": false,
    "pycharm": {
     "name": "#%%\n"
    }
   }
  },
  {
   "cell_type": "markdown",
   "source": [
    "The old line looks like a bad fit now. What if we try our previous equations:"
   ],
   "metadata": {
    "collapsed": false,
    "pycharm": {
     "name": "#%% md\n"
    }
   }
  },
  {
   "cell_type": "code",
   "execution_count": null,
   "outputs": [],
   "source": [],
   "metadata": {
    "collapsed": false,
    "pycharm": {
     "name": "#%%\n"
    }
   }
  },
  {
   "cell_type": "markdown",
   "source": [
    "These numbers look different, so maybe this line will fit better. Let's go ahead and make this line and plot it with our data:'"
   ],
   "metadata": {
    "collapsed": false,
    "pycharm": {
     "name": "#%% md\n"
    }
   }
  },
  {
   "cell_type": "code",
   "execution_count": null,
   "outputs": [],
   "source": [],
   "metadata": {
    "collapsed": false,
    "pycharm": {
     "name": "#%%\n"
    }
   }
  },
  {
   "cell_type": "markdown",
   "source": [
    "This line is a better fit, but still not a good one! Let's try our linear regression method:"
   ],
   "metadata": {
    "collapsed": false,
    "pycharm": {
     "name": "#%% md\n"
    }
   }
  },
  {
   "cell_type": "code",
   "execution_count": null,
   "outputs": [],
   "source": [],
   "metadata": {
    "collapsed": false,
    "pycharm": {
     "name": "#%%\n"
    }
   }
  },
  {
   "cell_type": "markdown",
   "source": [
    "These numbers look promising, so let's plot them:"
   ],
   "metadata": {
    "collapsed": false,
    "pycharm": {
     "name": "#%% md\n"
    }
   }
  },
  {
   "cell_type": "code",
   "execution_count": null,
   "outputs": [],
   "source": [],
   "metadata": {
    "collapsed": false,
    "pycharm": {
     "name": "#%%\n"
    }
   }
  },
  {
   "cell_type": "code",
   "execution_count": null,
   "outputs": [],
   "source": [],
   "metadata": {
    "collapsed": false,
    "pycharm": {
     "name": "#%%\n"
    }
   }
  },
  {
   "cell_type": "markdown",
   "source": [
    "We can see that our line from the linear regression is the best fit for this data set."
   ],
   "metadata": {
    "collapsed": false,
    "pycharm": {
     "name": "#%% md\n"
    }
   }
  },
  {
   "cell_type": "code",
   "execution_count": null,
   "outputs": [],
   "source": [],
   "metadata": {
    "collapsed": false,
    "pycharm": {
     "name": "#%%\n"
    }
   }
  },
  {
   "cell_type": "code",
   "execution_count": null,
   "outputs": [],
   "source": [],
   "metadata": {
    "collapsed": false,
    "pycharm": {
     "name": "#%%\n"
    }
   }
  }
 ],
 "metadata": {
  "kernelspec": {
   "display_name": "Python 3 (ipykernel)",
   "language": "python",
   "name": "python3"
  },
  "language_info": {
   "codemirror_mode": {
    "name": "ipython",
    "version": 3
   },
   "file_extension": ".py",
   "mimetype": "text/x-python",
   "name": "python",
   "nbconvert_exporter": "python",
   "pygments_lexer": "ipython3",
   "version": "3.9.7"
  }
 },
 "nbformat": 4,
 "nbformat_minor": 1
}